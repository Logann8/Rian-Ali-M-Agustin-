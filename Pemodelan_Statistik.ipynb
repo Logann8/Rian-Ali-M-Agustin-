{
  "nbformat": 4,
  "nbformat_minor": 0,
  "metadata": {
    "colab": {
      "provenance": [],
      "authorship_tag": "ABX9TyNzsrBKVCQ0Mw+MRYjJIczf",
      "include_colab_link": true
    },
    "kernelspec": {
      "name": "python3",
      "display_name": "Python 3"
    },
    "language_info": {
      "name": "python"
    }
  },
  "cells": [
    {
      "cell_type": "markdown",
      "metadata": {
        "id": "view-in-github",
        "colab_type": "text"
      },
      "source": [
        "<a href=\"https://colab.research.google.com/github/Logann8/Rian-Ali-M-Agustin-/blob/main/Pemodelan_Statistik.ipynb\" target=\"_parent\"><img src=\"https://colab.research.google.com/assets/colab-badge.svg\" alt=\"Open In Colab\"/></a>"
      ]
    },
    {
      "cell_type": "code",
      "source": [
        "import numpy as np\n",
        "\n",
        "data_tweet = [\n",
        "    ['P', 'P', 'N', 'G'],\n",
        "    ['N', 'P', 'P', 'P'],\n",
        "    ['G', 'N', 'G', 'G'],\n",
        "    ['P', 'N', 'N', 'P'],\n",
        "    ['N', 'G', 'G', 'P']\n",
        "]\n",
        "\n",
        "sentimen_list = ['P', 'N', 'G']\n",
        "index_sentimen = {sentimen: idx for idx, sentimen in enumerate(sentimen_list)}\n",
        "\n",
        "matrix_transisi = np.zeros((len(sentimen_list), len(sentimen_list)))\n",
        "\n",
        "for conversation in data_tweet:\n",
        "    for i in range(len(conversation) - 1):\n",
        "        current = conversation[i]\n",
        "        next_ = conversation[i + 1]\n",
        "        matrix_transisi[index_sentimen[current], index_sentimen[next_]] += 1\n",
        "\n",
        "for row in range(len(matrix_transisi)):\n",
        "    row_sum = np.sum(matrix_transisi[row])\n",
        "    if row_sum > 0:\n",
        "        matrix_transisi[row] /= row_sum\n",
        "\n",
        "matrix_transisi = np.round(matrix_transisi, 2)\n",
        "\n",
        "print(\"Matriks Transisi:\")\n",
        "for i, row in enumerate(matrix_transisi):\n",
        "    print(f\"{sentimen_list[i]} -> {row}\")"
      ],
      "metadata": {
        "colab": {
          "base_uri": "https://localhost:8080/"
        },
        "id": "ytq2wCf1-HrG",
        "outputId": "2db98a06-38a3-499f-888c-67622e26319f"
      },
      "execution_count": null,
      "outputs": [
        {
          "output_type": "stream",
          "name": "stdout",
          "text": [
            "Matriks Transisi:\n",
            "P -> [0.6 0.4 0. ]\n",
            "N -> [0.33 0.17 0.5 ]\n",
            "G -> [0.25 0.25 0.5 ]\n"
          ]
        }
      ]
    },
    {
      "cell_type": "code",
      "source": [
        "\n",
        "def prediksi_tweet(matrix_transisi, sentimen_awal, jumlah_tweet):\n",
        "    vektor_awal = np.zeros(len(sentimen_list))\n",
        "    vektor_awal[index_sentimen[sentimen_awal]] = 1\n",
        "\n",
        "    hasil_prediksi = []\n",
        "    for _ in range(jumlah_tweet):\n",
        "        vektor_awal = np.dot(vektor_awal, matrix_transisi)\n",
        "        hasil_prediksi.append(np.round(vektor_awal, 2))\n",
        "\n",
        "    return hasil_prediksi\n",
        "\n",
        "sentimen_awal = 'P'\n",
        "jumlah_tweet = 3\n",
        "prediksi = prediksi_tweet(matrix_transisi, sentimen_awal, jumlah_tweet)\n",
        "\n",
        "print(\"\\nPrediksi Sentimen untuk Tiga Tweet Berikutnya:\")\n",
        "for idx, prob in enumerate(prediksi, start=1):\n",
        "    print(f\"Tweet ke-{idx}: {dict(zip(sentimen_list, prob))}\")"
      ],
      "metadata": {
        "colab": {
          "base_uri": "https://localhost:8080/"
        },
        "id": "4q_mnksu-SO9",
        "outputId": "64134119-75f3-4b90-cf2a-f0091eb0da18"
      },
      "execution_count": null,
      "outputs": [
        {
          "output_type": "stream",
          "name": "stdout",
          "text": [
            "\n",
            "Prediksi Sentimen untuk Tiga Tweet Berikutnya:\n",
            "Tweet ke-1: {'P': 0.6, 'N': 0.4, 'G': 0.0}\n",
            "Tweet ke-2: {'P': 0.49, 'N': 0.31, 'G': 0.2}\n",
            "Tweet ke-3: {'P': 0.45, 'N': 0.3, 'G': 0.25}\n"
          ]
        }
      ]
    },
    {
      "cell_type": "code",
      "source": [
        "\n",
        "def analisis_perkembangan(matrix_transisi, sentimen_awal, langkah=10):\n",
        "    #\n",
        "    vektor_awal = np.zeros(len(sentimen_list))\n",
        "    vektor_awal[index_sentimen[sentimen_awal]] = 1\n",
        "\n",
        "    riwayat = []\n",
        "    for _ in range(langkah):\n",
        "        vektor_awal = np.dot(vektor_awal, matrix_transisi)\n",
        "        riwayat.append(np.round(vektor_awal, 2))\n",
        "\n",
        "    return riwayat\n",
        "\n",
        "\n",
        "riwayat_analisis = analisis_perkembangan(matrix_transisi, sentimen_awal='P', langkah=10)\n",
        "\n",
        "print(\"\\nAnalisis Perkembangan Sentimen dalam 10 Langkah:\")\n",
        "for idx, prob in enumerate(riwayat_analisis, start=1):\n",
        "    print(f\"Langkah {idx}: {dict(zip(sentimen_list, prob))}\")"
      ],
      "metadata": {
        "colab": {
          "base_uri": "https://localhost:8080/"
        },
        "id": "-Rr_U0ZI-dJ5",
        "outputId": "852c9d1b-0dc6-4025-a85f-738a682d1727"
      },
      "execution_count": null,
      "outputs": [
        {
          "output_type": "stream",
          "name": "stdout",
          "text": [
            "\n",
            "Analisis Perkembangan Sentimen dalam 10 Langkah:\n",
            "Langkah 1: {'P': 0.6, 'N': 0.4, 'G': 0.0}\n",
            "Langkah 2: {'P': 0.49, 'N': 0.31, 'G': 0.2}\n",
            "Langkah 3: {'P': 0.45, 'N': 0.3, 'G': 0.25}\n",
            "Langkah 4: {'P': 0.43, 'N': 0.29, 'G': 0.28}\n",
            "Langkah 5: {'P': 0.42, 'N': 0.29, 'G': 0.28}\n",
            "Langkah 6: {'P': 0.42, 'N': 0.29, 'G': 0.29}\n",
            "Langkah 7: {'P': 0.42, 'N': 0.29, 'G': 0.29}\n",
            "Langkah 8: {'P': 0.42, 'N': 0.29, 'G': 0.29}\n",
            "Langkah 9: {'P': 0.42, 'N': 0.29, 'G': 0.29}\n",
            "Langkah 10: {'P': 0.42, 'N': 0.29, 'G': 0.29}\n"
          ]
        }
      ]
    }
  ]
}